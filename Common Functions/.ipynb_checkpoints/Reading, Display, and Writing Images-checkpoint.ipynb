{
 "cells": [
  {
   "cell_type": "code",
   "execution_count": 4,
   "id": "6804fc59",
   "metadata": {},
   "outputs": [
    {
     "data": {
      "text/plain": [
       "True"
      ]
     },
     "execution_count": 4,
     "metadata": {},
     "output_type": "execute_result"
    }
   ],
   "source": [
    "import cv2\n",
    "import numpy as np\n",
    "\n",
    "\n",
    "def read_image(image):\n",
    "    return cv2.imread(image)\n",
    "\n",
    "def write_image(file_and_format, image):\n",
    "    return cv2.imwrite(file_and_format, image)\n",
    "\n",
    "\n",
    "input_img = read_image(image=\"C:\\\\Users\\\\User\\\\Desktop\\\\Personal Doc\\\\black men style\\\\casuallook.jpg\")\n",
    "\n",
    "# Displaying the image\n",
    "display_image(window_name='An Image', image=input_img)\n",
    "cv2.waitKey(0)\n",
    "cv2.destroyAllWindows()\n",
    "\n",
    "write_image(file_and_format='another_image.png', image=input_img)\n"
   ]
  },
  {
   "cell_type": "code",
   "execution_count": null,
   "id": "6d93dad1",
   "metadata": {},
   "outputs": [],
   "source": []
  }
 ],
 "metadata": {
  "kernelspec": {
   "display_name": "Python 3 (ipykernel)",
   "language": "python",
   "name": "python3"
  },
  "language_info": {
   "codemirror_mode": {
    "name": "ipython",
    "version": 3
   },
   "file_extension": ".py",
   "mimetype": "text/x-python",
   "name": "python",
   "nbconvert_exporter": "python",
   "pygments_lexer": "ipython3",
   "version": "3.9.15"
  }
 },
 "nbformat": 4,
 "nbformat_minor": 5
}
