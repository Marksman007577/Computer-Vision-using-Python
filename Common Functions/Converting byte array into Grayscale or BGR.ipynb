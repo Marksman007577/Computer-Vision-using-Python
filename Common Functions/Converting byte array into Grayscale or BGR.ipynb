{
 "cells": [
  {
   "cell_type": "code",
   "execution_count": 2,
   "id": "baf5d079",
   "metadata": {},
   "outputs": [
    {
     "data": {
      "text/plain": [
       "True"
      ]
     },
     "execution_count": 2,
     "metadata": {},
     "output_type": "execute_result"
    }
   ],
   "source": [
    "import cv2\n",
    "import numpy as np\n",
    "import os\n",
    "import random\n",
    "\n",
    "# gray_image = numpy.array(grayByteArray).reshape(height, width)\n",
    "# bgr_image = numpy.array(bgrByteArray).reshape(height, width, 3)\n",
    "\n",
    "# step 1: Make an array of N random bytes\n",
    "def random_array_gen(nBytes):\n",
    "    rand_arr = np.random.randint(0, 256,nBytes)\n",
    "    return rand_arr\n",
    "\n",
    "# step 2: Make the reshape of the random generated array\n",
    "def array_reshape_gray(random_array, height, width):\n",
    "    reshaped_array = random_array.reshape(height, width)\n",
    "    return reshaped_array\n",
    "\n",
    "def array_reshape(random_array, height, width, channel):\n",
    "    reshaped_array = random_array.reshape(height, width, channel)\n",
    "    return reshaped_array\n",
    "\n",
    "# step 3: saving the generated array\n",
    "def write_image(file_and_format, image):\n",
    "    return cv2.imwrite(file_and_format, image)\n",
    "\n",
    "\n",
    "# for gray image \n",
    "gray_image = random_array_gen(nBytes=120000)\n",
    "\n",
    "reshaped_gray = array_reshape_gray(random_array=gray_image, height=300, width=400)\n",
    "\n",
    "write_image(file_and_format='gray.png', image=reshaped_gray)\n",
    "\n",
    "# for bgr image \n",
    "bgr_image = random_array_gen(nBytes=120000)\n",
    "\n",
    "reshaped_bgr = array_reshape(random_array=bgr_image, height=100, width=400, channel=3)\n",
    "\n",
    "write_image(file_and_format='BGR.png', image=reshaped_bgr)"
   ]
  },
  {
   "cell_type": "code",
   "execution_count": null,
   "id": "2f48fa61",
   "metadata": {},
   "outputs": [],
   "source": []
  }
 ],
 "metadata": {
  "kernelspec": {
   "display_name": "Python 3 (ipykernel)",
   "language": "python",
   "name": "python3"
  },
  "language_info": {
   "codemirror_mode": {
    "name": "ipython",
    "version": 3
   },
   "file_extension": ".py",
   "mimetype": "text/x-python",
   "name": "python",
   "nbconvert_exporter": "python",
   "pygments_lexer": "ipython3",
   "version": "3.9.15"
  }
 },
 "nbformat": 4,
 "nbformat_minor": 5
}
