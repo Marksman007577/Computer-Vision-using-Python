{
 "cells": [
  {
   "cell_type": "code",
   "execution_count": 1,
   "id": "2109fd3e",
   "metadata": {},
   "outputs": [],
   "source": [
    "import cv2\n",
    "import numpy as np\n",
    "\n",
    "def crop_image(image, dimensions):\n",
    "    image_dims = image.shape\n",
    "    h_s, h_e, w_s, w_e = dimensions\n",
    "    width_dims = [w_s, w_e]\n",
    "    height_dims = [h_s, h_e]\n",
    "    np.clip(height_dims, a_min=0, a_max=image_dims[0])\n",
    "    np.clip(width_dims, a_min=0, a_max=image_dims[1])\n",
    "    crop_image = image[height_dims[0]:height_dims[1], width_dims[0]:width_dims[1]]\n",
    "    return crop_image\n",
    "\n",
    "img = cv2.imread(\"casuallook.jpg\")\n",
    "dimension = [0,500,0,300]\n",
    "cropped_image = crop_image(image=img, dimensions=dimension)\n",
    "\n",
    "cv2.imshow('A cropped Image', cropped_image)\n",
    "cv2.waitKey(0)\n",
    "cv2.destroyAllWindows()"
   ]
  }
 ],
 "metadata": {
  "kernelspec": {
   "display_name": "Python 3 (ipykernel)",
   "language": "python",
   "name": "python3"
  },
  "language_info": {
   "codemirror_mode": {
    "name": "ipython",
    "version": 3
   },
   "file_extension": ".py",
   "mimetype": "text/x-python",
   "name": "python",
   "nbconvert_exporter": "python",
   "pygments_lexer": "ipython3",
   "version": "3.9.15"
  }
 },
 "nbformat": 4,
 "nbformat_minor": 5
}
