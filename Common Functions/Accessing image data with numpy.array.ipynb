{
 "cells": [
  {
   "cell_type": "code",
   "execution_count": 7,
   "id": "ba941d6a",
   "metadata": {},
   "outputs": [],
   "source": [
    "import cv2\n",
    "import numpy as np\n",
    "# modifying the pixel at x=0, y=0 to 255\n",
    "img = cv2.imread(\"casuallook.jpg\")\n",
    "img[0,0]=[255,255,255]\n",
    "\n",
    "cv2.imshow('An Image', img)\n",
    "cv2.waitKey(0)\n",
    "cv2.destroyAllWindows()"
   ]
  },
  {
   "cell_type": "code",
   "execution_count": 8,
   "id": "51118580",
   "metadata": {},
   "outputs": [],
   "source": [
    "import cv2\n",
    "import numpy as np\n",
    "# modifying the channel of a particular pixel \n",
    "# instructs the program to take all pixels from all rows and columns and set the green\n",
    "# value (at index one of the three-element BGR array) to 0.\n",
    "img = cv2.imread(\"casuallook.jpg\")\n",
    "img[:,:, 0]= 0\n",
    "\n",
    "cv2.imshow('An Image', img)\n",
    "cv2.waitKey(0)\n",
    "cv2.destroyAllWindows()"
   ]
  },
  {
   "cell_type": "code",
   "execution_count": 11,
   "id": "84592731",
   "metadata": {},
   "outputs": [
    {
     "name": "stdout",
     "output_type": "stream",
     "text": [
      "(750, 500, 3)\n",
      "1125000\n",
      "uint8\n",
      "3\n"
     ]
    }
   ],
   "source": [
    "import cv2\n",
    "import numpy as np\n",
    "\n",
    "# Checking the properties of an image\n",
    "img = cv2.imread(\"casuallook.jpg\")\n",
    "print(img.shape)\n",
    "print(img.size)\n",
    "print(img.dtype)\n",
    "print(len(img.shape))"
   ]
  },
  {
   "cell_type": "code",
   "execution_count": null,
   "id": "fe6aed58",
   "metadata": {},
   "outputs": [],
   "source": []
  }
 ],
 "metadata": {
  "kernelspec": {
   "display_name": "Python 3 (ipykernel)",
   "language": "python",
   "name": "python3"
  },
  "language_info": {
   "codemirror_mode": {
    "name": "ipython",
    "version": 3
   },
   "file_extension": ".py",
   "mimetype": "text/x-python",
   "name": "python",
   "nbconvert_exporter": "python",
   "pygments_lexer": "ipython3",
   "version": "3.9.15"
  }
 },
 "nbformat": 4,
 "nbformat_minor": 5
}
