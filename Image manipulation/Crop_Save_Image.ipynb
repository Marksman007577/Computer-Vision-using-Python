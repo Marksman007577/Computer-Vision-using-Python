{
 "cells": [
  {
   "cell_type": "code",
   "execution_count": 5,
   "id": "d73be3a9",
   "metadata": {},
   "outputs": [],
   "source": [
    "import cv2\n",
    "import numpy as np\n",
    "\n",
    "\n",
    "def read_image(image_path):\n",
    "    \"\"\"This function reads any image from a given path\"\"\"\n",
    "    image = cv2.imread(image_path)\n",
    "    return image\n",
    "\n",
    "def display_image(window_name, image_read):\n",
    "    \"\"\"This function any any image\"\"\"\n",
    "    cv2.imshow(window_name, image_read)\n",
    "    cv2.waitKey(0)\n",
    "    \n",
    "def save_image(image_name_format, image):\n",
    "    \"\"\"This function saves any image to a given path\"\"\"\n",
    "    cv2.imwrite(image_name_format, image)\n",
    "    \n",
    "def crop_image(image, dimensions):\n",
    "    \"\"\"This function crops any image\"\"\"\n",
    "    current_image_dimensions = image.shape\n",
    "    h_s,h_e,w_s,w_e = dimensions\n",
    "    width_dims =[w_s, w_e]\n",
    "    height_dims = [h_s, h_e]\n",
    "    np.clip(width_dims, a_min=0, a_max=current_image_dimensions[1])\n",
    "    np.clip(height_dims, a_min=0, a_max=current_image_dimensions[0])\n",
    "    \n",
    "    crop_image = image[height_dims[0]:height_dims[1], width_dims[0]:width_dims[1]]\n",
    "    return crop_image\n",
    "    \n",
    "\n",
    "    \n",
    "dimension = [0, 500, 0, 300]\n",
    "\n",
    "my_image_1 = read_image(\"Nature.jpg\")\n",
    "my_image_2 = read_image(\"Universe.jpg\")\n",
    "\n",
    "display_image(\"Nature_pane\",my_image_1)\n",
    "display_image(\"Universe_pane\",my_image_2)\n",
    "\n",
    "save_image(\"edited images\\\\Nature_image_saved.jpg\",my_image_1)\n",
    "save_image(\"edited images\\\\Universe_image_saved.jpg\",my_image_2)\n",
    "\n",
    "cropped_image_1 = crop_image(my_image_1, dimension)\n",
    "cropped_image_2 = crop_image(my_image_2, dimension)\n",
    "\n",
    "display_image(\"Cropped_Nature_pane\",cropped_image_1)\n",
    "display_image(\"Cropped_Universe_pane\",cropped_image_2)\n",
    "\n",
    "save_image(\"edited images\\\\Cropped_Nature_image_saved.jpg\",cropped_image_1)\n",
    "save_image(\"edited images\\\\Cropped_Universe_image_saved.jpg\",cropped_image_2)"
   ]
  },
  {
   "cell_type": "code",
   "execution_count": null,
   "id": "7bcae085",
   "metadata": {},
   "outputs": [],
   "source": []
  }
 ],
 "metadata": {
  "kernelspec": {
   "display_name": "Python 3 (ipykernel)",
   "language": "python",
   "name": "python3"
  },
  "language_info": {
   "codemirror_mode": {
    "name": "ipython",
    "version": 3
   },
   "file_extension": ".py",
   "mimetype": "text/x-python",
   "name": "python",
   "nbconvert_exporter": "python",
   "pygments_lexer": "ipython3",
   "version": "3.9.13"
  }
 },
 "nbformat": 4,
 "nbformat_minor": 5
}
