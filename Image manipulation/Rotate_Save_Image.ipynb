{
 "cells": [
  {
   "cell_type": "code",
   "execution_count": 1,
   "id": "6104ec0b",
   "metadata": {},
   "outputs": [],
   "source": [
    "import cv2\n",
    "import numpy as np\n",
    "\n",
    "\n",
    "def read_image(image_path):\n",
    "    \"\"\"This function reads any image from a given path\"\"\"\n",
    "    image = cv2.imread(image_path)\n",
    "    return image\n",
    "\n",
    "def display_image(window_name, image_read):\n",
    "    \"\"\"This function any any image from a given path\"\"\"\n",
    "    cv2.imshow(window_name, image_read)\n",
    "    cv2.waitKey(0)\n",
    "    \n",
    "def save_image(image_name_format, image):\n",
    "    \"\"\"This function saves any image to a given path\"\"\"\n",
    "    cv2.imwrite(image_name_format, image)\n",
    "    \n",
    "def rotate_image(image,angle, scale):\n",
    "    \"\"\"This function rotates any image by the given angle\"\"\"\n",
    "    image_height, image_width = image.shape[0:2]\n",
    "    image_center = (image_width/2, image_height/2)\n",
    "    \n",
    "    rotation_matrix = cv2.getRotationMatrix2D(image_center, angle, scale)\n",
    "    \n",
    "    rotated_image = cv2.warpAffine(image, rotation_matrix,(image_width, image_height))\n",
    "    \n",
    "    return rotated_image\n",
    "\n",
    "\n",
    "\n",
    "rotation_angle = 140\n",
    "rotation_scale = 1\n",
    "\n",
    "my_image_1 = read_image(\"Nature.jpg\")\n",
    "my_image_2 = read_image(\"Universe.jpg\")\n",
    "\n",
    "display_image(\"Nature_pane\",my_image_1)\n",
    "display_image(\"Universe_pane\",my_image_2)\n",
    "\n",
    "save_image(\"edited images\\\\Nature_image_saved.jpg\",my_image_1)\n",
    "save_image(\"edited images\\\\Universe_image_saved.jpg\",my_image_2)\n",
    "\n",
    "rotated_image_1 = rotate_image(image=my_image_1,angle=rotation_angle, scale=rotation_scale)\n",
    "rotated_image_2 = rotate_image(image=my_image_2,angle=rotation_angle, scale=rotation_scale)\n",
    "\n",
    "display_image(\"Rotated_Nature_pane\",rotated_image_1)\n",
    "display_image(\"Rotated_Universe_pane\",rotated_image_2)\n",
    "\n",
    "save_image(\"edited images\\\\Rotated_Nature_image_saved.jpg\",rotated_image_1)\n",
    "save_image(\"edited images\\\\Rotated_Universe_image_saved.jpg\",rotated_image_2)"
   ]
  }
 ],
 "metadata": {
  "kernelspec": {
   "display_name": "Python 3 (ipykernel)",
   "language": "python",
   "name": "python3"
  },
  "language_info": {
   "codemirror_mode": {
    "name": "ipython",
    "version": 3
   },
   "file_extension": ".py",
   "mimetype": "text/x-python",
   "name": "python",
   "nbconvert_exporter": "python",
   "pygments_lexer": "ipython3",
   "version": "3.9.13"
  }
 },
 "nbformat": 4,
 "nbformat_minor": 5
}
