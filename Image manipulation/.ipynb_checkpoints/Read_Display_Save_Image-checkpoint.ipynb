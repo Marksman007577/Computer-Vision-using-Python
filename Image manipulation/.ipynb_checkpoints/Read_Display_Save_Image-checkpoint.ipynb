{
 "cells": [
  {
   "cell_type": "code",
   "execution_count": 3,
   "id": "8935f04a",
   "metadata": {},
   "outputs": [],
   "source": [
    "import cv2\n",
    "import numpy as np\n",
    "\n",
    "\n",
    "def read_image(image_path):\n",
    "    \"\"\"This function reads any image from a given path\"\"\"\n",
    "    image = cv2.imread(image_path)\n",
    "    return image\n",
    "\n",
    "def display_image(window_name, image_read):\n",
    "    \"\"\"This function any any image from a given path\"\"\"\n",
    "    cv2.imshow(window_name, image_read)\n",
    "    cv2.waitKey(0)\n",
    "    \n",
    "def save_image(image_name_format, image):\n",
    "    \"\"\"This function saves any image to a given path\"\"\"\n",
    "    cv2.imwrite(image_name_format, image)\n",
    "    \n",
    "    \n",
    "my_image_1 = read_image(\"Nature.jpg\")\n",
    "my_image_2 = read_image(\"Universe.jpg\")\n",
    "\n",
    "display_image(\"Nature_pane\",my_image_1)\n",
    "display_image(\"Universe_pane\",my_image_2)\n",
    "\n",
    "save_image(\"edited images\\\\Nature_image_saved.jpg\",my_image_1)\n",
    "save_image(\"edited images\\\\Universe_image_saved.jpg\",my_image_2)"
   ]
  },
  {
   "cell_type": "code",
   "execution_count": null,
   "id": "2ddafc70",
   "metadata": {},
   "outputs": [],
   "source": []
  }
 ],
 "metadata": {
  "kernelspec": {
   "display_name": "Python 3 (ipykernel)",
   "language": "python",
   "name": "python3"
  },
  "language_info": {
   "codemirror_mode": {
    "name": "ipython",
    "version": 3
   },
   "file_extension": ".py",
   "mimetype": "text/x-python",
   "name": "python",
   "nbconvert_exporter": "python",
   "pygments_lexer": "ipython3",
   "version": "3.9.13"
  }
 },
 "nbformat": 4,
 "nbformat_minor": 5
}
