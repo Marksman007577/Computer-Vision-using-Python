{
 "cells": [
  {
   "cell_type": "code",
   "execution_count": 2,
   "id": "8935f04a",
   "metadata": {},
   "outputs": [],
   "source": [
    "import cv2\n",
    "import numpy as np\n",
    "\n",
    "\n",
    "def read_image(image_path):\n",
    "    image = cv2.imread(image_path)\n",
    "    return image\n",
    "\n",
    "\n",
    "def display_image(window_name, read_image):\n",
    "    cv2.imshow(window_name, read_image)\n",
    "    cv2.waitKey(0)\n",
    "\n",
    "\n",
    "def save_image(image_name, image):\n",
    "    cv2.imwrite(image_name, image)\n",
    "\n",
    "\n",
    "image = read_image(\"Nature.jpg\")\n",
    "display_image(\"displayed_image\", image)"
   ]
  },
  {
   "cell_type": "code",
   "execution_count": null,
   "id": "2ddafc70",
   "metadata": {},
   "outputs": [],
   "source": []
  }
 ],
 "metadata": {
  "kernelspec": {
   "display_name": "Python 3 (ipykernel)",
   "language": "python",
   "name": "python3"
  },
  "language_info": {
   "codemirror_mode": {
    "name": "ipython",
    "version": 3
   },
   "file_extension": ".py",
   "mimetype": "text/x-python",
   "name": "python",
   "nbconvert_exporter": "python",
   "pygments_lexer": "ipython3",
   "version": "3.9.13"
  }
 },
 "nbformat": 4,
 "nbformat_minor": 5
}
