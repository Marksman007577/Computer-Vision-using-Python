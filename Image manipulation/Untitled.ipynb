{
 "cells": [
  {
   "cell_type": "code",
   "execution_count": 12,
   "id": "7e5d3f07",
   "metadata": {},
   "outputs": [],
   "source": [
    "import cv2\n",
    "import numpy as np\n",
    "\n",
    "\n",
    "def read_image(image_path):\n",
    "    \"\"\"This function reads any image from a given path\"\"\"\n",
    "    image = cv2.imread(image_path)\n",
    "    return image\n",
    "\n",
    "def display_image(window_name, image_read):\n",
    "    \"\"\"This function any any image from a given path\"\"\"\n",
    "    cv2.imshow(window_name, image_read)\n",
    "    cv2.waitKey(0)\n",
    "    \n",
    "def save_image(image_name_format, image):\n",
    "    \"\"\"This function saves any image to a given path\"\"\"\n",
    "    cv2.imwrite(image_name_format, image)\n",
    "    \n",
    "def resize_image(image, dimensions, method_number):\n",
    "    \"\"\"This function resizes any image to a given path\"\"\"\n",
    "    methods = [cv2.INTER_AREA,cv2.INTER_LINEAR, cv2.INTER_NEAREST, \n",
    "              cv2.INTER_CUBIC, cv2.INTER_LANCZOS4]\n",
    "    \n",
    "    resize_method = methods[method_number]\n",
    "    resized_image = cv2.resize(image, dimensions, interpolation=resize_method)\n",
    "    return resized_image\n",
    "    \n",
    "\n",
    "method = 0\n",
    "dimension = (500, 500)\n",
    "\n",
    "my_image_1 = read_image(\"Nature.jpg\")\n",
    "my_image_2 = read_image(\"Universe.jpg\")\n",
    "\n",
    "display_image(\"Nature_pane\",my_image_1)\n",
    "display_image(\"Universe_pane\",my_image_2)\n",
    "\n",
    "save_image(\"edited images\\\\Nature_image_saved.jpg\",my_image_1)\n",
    "save_image(\"edited images\\\\Universe_image_saved.jpg\",my_image_2)\n",
    "\n",
    "resized_image_1 = resize_image(my_image_1, dimension, method)\n",
    "resized_image_2 = resize_image(my_image_2, dimension, method)\n",
    "\n",
    "display_image(\"Resized_Nature_pane\",resized_image_1)\n",
    "display_image(\"Resized_Universe_pane\",resized_image_2)\n",
    "\n",
    "save_image(\"edited images\\\\Resized_Nature_image_saved.jpg\",resized_image_1)\n",
    "save_image(\"edited images\\\\Resized_Universe_image_saved.jpg\",resized_image_2)"
   ]
  },
  {
   "cell_type": "code",
   "execution_count": null,
   "id": "afc5a655",
   "metadata": {},
   "outputs": [],
   "source": []
  }
 ],
 "metadata": {
  "kernelspec": {
   "display_name": "Python 3 (ipykernel)",
   "language": "python",
   "name": "python3"
  },
  "language_info": {
   "codemirror_mode": {
    "name": "ipython",
    "version": 3
   },
   "file_extension": ".py",
   "mimetype": "text/x-python",
   "name": "python",
   "nbconvert_exporter": "python",
   "pygments_lexer": "ipython3",
   "version": "3.9.13"
  }
 },
 "nbformat": 4,
 "nbformat_minor": 5
}
