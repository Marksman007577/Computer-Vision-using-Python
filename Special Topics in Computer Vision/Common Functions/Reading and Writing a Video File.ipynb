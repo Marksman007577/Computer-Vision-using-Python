{
 "cells": [
  {
   "cell_type": "code",
   "execution_count": 11,
   "id": "868a7d00",
   "metadata": {},
   "outputs": [],
   "source": [
    "import cv2\n",
    "import numpy as np\n",
    "\n",
    "video_capture = cv2.VideoCapture('Lane_video.mp4')\n",
    "fps = video_capture.get(cv2.CAP_PROP_FPS)\n",
    "size = (int(video_capture.get(cv2.CAP_PROP_FRAME_WIDTH)),\n",
    "       int(video_capture.get(cv2.CAP_PROP_FRAME_HEIGHT)))\n",
    "\n",
    "video_write = cv2.VideoWriter('my_output.avi', cv2.VideoWriter_fourcc('I','4','2','0'), fps, size)\n",
    "\n",
    "success, frame = video_capture.read()\n",
    "while success == True:\n",
    "    video_write.write(frame)\n",
    "    success, frame = video_capture.read()"
   ]
  },
  {
   "cell_type": "code",
   "execution_count": 7,
   "id": "acbff428",
   "metadata": {},
   "outputs": [
    {
     "data": {
      "text/plain": [
       "(960, 540)"
      ]
     },
     "execution_count": 7,
     "metadata": {},
     "output_type": "execute_result"
    }
   ],
   "source": [
    "size"
   ]
  },
  {
   "cell_type": "code",
   "execution_count": 8,
   "id": "a53fc0aa",
   "metadata": {},
   "outputs": [
    {
     "data": {
      "text/plain": [
       "30.0"
      ]
     },
     "execution_count": 8,
     "metadata": {},
     "output_type": "execute_result"
    }
   ],
   "source": [
    "fps"
   ]
  },
  {
   "cell_type": "code",
   "execution_count": 9,
   "id": "f82d9747",
   "metadata": {},
   "outputs": [
    {
     "data": {
      "text/plain": [
       "< cv2.VideoWriter 00000124FBB85790>"
      ]
     },
     "execution_count": 9,
     "metadata": {},
     "output_type": "execute_result"
    }
   ],
   "source": [
    "video_write"
   ]
  },
  {
   "cell_type": "code",
   "execution_count": null,
   "id": "a09bc1cd",
   "metadata": {},
   "outputs": [],
   "source": []
  }
 ],
 "metadata": {
  "kernelspec": {
   "display_name": "Python 3 (ipykernel)",
   "language": "python",
   "name": "python3"
  },
  "language_info": {
   "codemirror_mode": {
    "name": "ipython",
    "version": 3
   },
   "file_extension": ".py",
   "mimetype": "text/x-python",
   "name": "python",
   "nbconvert_exporter": "python",
   "pygments_lexer": "ipython3",
   "version": "3.9.15"
  }
 },
 "nbformat": 4,
 "nbformat_minor": 5
}
