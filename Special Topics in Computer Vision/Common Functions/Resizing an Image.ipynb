{
 "cells": [
  {
   "cell_type": "code",
   "execution_count": 11,
   "id": "bd928ed2",
   "metadata": {},
   "outputs": [
    {
     "name": "stdout",
     "output_type": "stream",
     "text": [
      "Enter the resize method\n",
      "4\n"
     ]
    }
   ],
   "source": [
    "import cv2\n",
    "import numpy as np\n",
    "\n",
    "\n",
    "dimension = (500, 500)\n",
    "\n",
    "def resized_image(image, dimensions, method_number):\n",
    "    methods = [cv2.INTER_AREA, cv2.INTER_LINEAR,\n",
    "              cv2.INTER_NEAREST,cv2.INTER_CUBIC,\n",
    "              cv2.INTER_CUBIC, cv2.INTER_LANCZOS4]\n",
    "    \n",
    "    resize_method = methods[method_number]\n",
    "    resized_image = cv2.resize(image, dimensions, interpolation=resize_method)\n",
    "    return resized_image\n",
    "\n",
    "    \n",
    "img = cv2.imread(\"casuallook.jpg\")\n",
    "methods = int(input(\"Enter the resize method\\n\"))\n",
    "resized_image = resized_image(image=img, dimensions=dimension, method_number=methods)\n",
    "\n",
    "cv2.imshow('A resized Image', resized_image)\n",
    "cv2.waitKey(0)\n",
    "cv2.destroyAllWindows()"
   ]
  },
  {
   "cell_type": "code",
   "execution_count": null,
   "id": "988749b5",
   "metadata": {},
   "outputs": [],
   "source": []
  }
 ],
 "metadata": {
  "kernelspec": {
   "display_name": "Python 3 (ipykernel)",
   "language": "python",
   "name": "python3"
  },
  "language_info": {
   "codemirror_mode": {
    "name": "ipython",
    "version": 3
   },
   "file_extension": ".py",
   "mimetype": "text/x-python",
   "name": "python",
   "nbconvert_exporter": "python",
   "pygments_lexer": "ipython3",
   "version": "3.9.15"
  }
 },
 "nbformat": 4,
 "nbformat_minor": 5
}
