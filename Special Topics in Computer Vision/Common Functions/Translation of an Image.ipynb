{
 "cells": [
  {
   "cell_type": "code",
   "execution_count": 1,
   "id": "6d495fe8",
   "metadata": {},
   "outputs": [],
   "source": [
    "import cv2\n",
    "import numpy as np\n",
    "\n",
    "def translate_image(image, dimensions):\n",
    "    \"\"\"This function shifts any image\"\"\"\n",
    "    h_translation, w_translation = dimensions\n",
    "    \n",
    "    translation_matrix = np.float32([[1,0,w_translation],[0,1,h_translation]])\n",
    "    \n",
    "    translated_image = cv2.warpAffine(image, translation_matrix, (image.shape[1], image.shape[0]))\n",
    "    \n",
    "    return translated_image\n",
    "\n",
    "\n",
    "translation_dimension = (100, 100)\n",
    "img = cv2.imread(\"casuallook.jpg\")\n",
    "translated_image = translate_image(image=img, dimensions=translation_dimension)\n",
    "\n",
    "cv2.imshow('A translated Image', translated_image)\n",
    "cv2.waitKey(0)\n",
    "cv2.destroyAllWindows()"
   ]
  },
  {
   "cell_type": "code",
   "execution_count": null,
   "id": "2a468602",
   "metadata": {},
   "outputs": [],
   "source": []
  }
 ],
 "metadata": {
  "kernelspec": {
   "display_name": "Python 3 (ipykernel)",
   "language": "python",
   "name": "python3"
  },
  "language_info": {
   "codemirror_mode": {
    "name": "ipython",
    "version": 3
   },
   "file_extension": ".py",
   "mimetype": "text/x-python",
   "name": "python",
   "nbconvert_exporter": "python",
   "pygments_lexer": "ipython3",
   "version": "3.9.15"
  }
 },
 "nbformat": 4,
 "nbformat_minor": 5
}
