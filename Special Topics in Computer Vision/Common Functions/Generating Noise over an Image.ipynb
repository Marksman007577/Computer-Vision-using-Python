{
 "cells": [
  {
   "cell_type": "code",
   "execution_count": 1,
   "id": "61fba250",
   "metadata": {},
   "outputs": [],
   "source": [
    "import cv2\n",
    "import numpy as np\n",
    "import random\n",
    "\n",
    "def read_image(image):\n",
    "    return cv2.imread(image)\n",
    "\n",
    "def write_image(file_and_format, image):\n",
    "    return cv2.imwrite(file_and_format, image)\n",
    "\n",
    "def noise(image):\n",
    "    output_image = image.copy()\n",
    "    \n",
    "    image_shape = image.shape\n",
    "    \n",
    "    if len(image_shape) == 2:\n",
    "        black = 0\n",
    "        white = 255\n",
    "    else:\n",
    "        black = np.array([0,0,0], dtype='uint8')\n",
    "        white = np.array([255,255,255], dtype='uint8')\n",
    "    \n",
    "    random_threshold = np.random.random(image_shape[0:2])\n",
    "    \n",
    "    output_image[random_threshold < (random_threshold/2)] = black\n",
    "    output_image[random_threshold > 1-(random_threshold/2)] = white\n",
    "    \n",
    "    return output_image\n",
    "        \n",
    "my_image = read_image(image='casuallook.jpg')\n",
    "noise_image = noise(image=my_image)\n",
    "write_image(file_and_format='Noisy.png', image=noise_image )\n",
    "cv2.imshow('Noise on Image', np.hstack((my_image, noise_image)))\n",
    "cv2.waitKey(0)\n",
    "cv2.destroyAllWindows()"
   ]
  },
  {
   "cell_type": "code",
   "execution_count": null,
   "id": "6c53a7cd",
   "metadata": {},
   "outputs": [],
   "source": []
  }
 ],
 "metadata": {
  "kernelspec": {
   "display_name": "Python 3 (ipykernel)",
   "language": "python",
   "name": "python3"
  },
  "language_info": {
   "codemirror_mode": {
    "name": "ipython",
    "version": 3
   },
   "file_extension": ".py",
   "mimetype": "text/x-python",
   "name": "python",
   "nbconvert_exporter": "python",
   "pygments_lexer": "ipython3",
   "version": "3.9.15"
  }
 },
 "nbformat": 4,
 "nbformat_minor": 5
}
