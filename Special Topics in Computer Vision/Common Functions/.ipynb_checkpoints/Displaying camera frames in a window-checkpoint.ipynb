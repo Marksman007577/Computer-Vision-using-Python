{
 "cells": [
  {
   "cell_type": "code",
   "execution_count": 1,
   "id": "c7355ddf",
   "metadata": {},
   "outputs": [
    {
     "name": "stdout",
     "output_type": "stream",
     "text": [
      "Showing camera feed. Click window or press any key to stop.\n"
     ]
    }
   ],
   "source": [
    "import cv2\n",
    "\n",
    "clicked = False\n",
    "\n",
    "def onMouse(event, x, y, flags, param):\n",
    "    global clicked\n",
    "    if event == cv2.EVENT_LBUTTONUP:\n",
    "        clicked = True\n",
    "        \n",
    "cameraCapture = cv2.VideoCapture(0)\n",
    "cv2.namedWindow('MyWindow')\n",
    "cv2.setMouseCallback('MyWindow', onMouse)\n",
    "\n",
    "print('Showing camera feed. Click window or press any key to stop.')\n",
    "success, frame = cameraCapture.read()\n",
    "\n",
    "while success and cv2.waitKey(1) == -1 and not clicked:\n",
    "    cv2.imshow('MyWindow', frame)\n",
    "    success, frame = cameraCapture.read()\n",
    "    \n",
    "cv2.destroyWindow('MyWindow')\n",
    "cameraCapture.release()"
   ]
  }
 ],
 "metadata": {
  "kernelspec": {
   "display_name": "Python 3 (ipykernel)",
   "language": "python",
   "name": "python3"
  },
  "language_info": {
   "codemirror_mode": {
    "name": "ipython",
    "version": 3
   },
   "file_extension": ".py",
   "mimetype": "text/x-python",
   "name": "python",
   "nbconvert_exporter": "python",
   "pygments_lexer": "ipython3",
   "version": "3.9.15"
  }
 },
 "nbformat": 4,
 "nbformat_minor": 5
}
