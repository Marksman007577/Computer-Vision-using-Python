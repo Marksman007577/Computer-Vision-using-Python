{
 "cells": [
  {
   "cell_type": "code",
   "execution_count": null,
   "id": "94e11e7b",
   "metadata": {},
   "outputs": [],
   "source": [
    "import cv2\n",
    "import numpy as np\n",
    "\n",
    "camera_capture = cv2.VideoCapture(0)\n",
    "fps = 30 # An assumption\n",
    "size = (int(camera_capture.get(cv2.CAP_PROP_FRAME_WIDTH),\n",
    "       int(camera_capture.get(cv2.CAP_PROP_FRAME_HEIGHT)))\n",
    "\n",
    "video_write = cv2.VideoWriter(\"myoutputvid.avi\", cv2.VideoWriter_fourcc('I','4','2','0'),fps, size)\n",
    "\n",
    "success, frame = camera_capture.read()\n",
    "numframerem = 10 * fps - 1 # 10 seconds of frames\n",
    "        \n",
    "while success and numframerem:\n",
    "        video_write.write(frame)\n",
    "        success, frame = camera_capture.read()\n",
    "        numframerem -= 1"
   ]
  }
 ],
 "metadata": {
  "kernelspec": {
   "display_name": "Python 3 (ipykernel)",
   "language": "python",
   "name": "python3"
  },
  "language_info": {
   "codemirror_mode": {
    "name": "ipython",
    "version": 3
   },
   "file_extension": ".py",
   "mimetype": "text/x-python",
   "name": "python",
   "nbconvert_exporter": "python",
   "pygments_lexer": "ipython3",
   "version": "3.9.15"
  }
 },
 "nbformat": 4,
 "nbformat_minor": 5
}
