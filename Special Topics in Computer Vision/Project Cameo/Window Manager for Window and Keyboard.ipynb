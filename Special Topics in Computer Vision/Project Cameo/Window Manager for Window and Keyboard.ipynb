{
 "cells": [
  {
   "cell_type": "code",
   "execution_count": null,
   "id": "abdc3211",
   "metadata": {},
   "outputs": [],
   "source": [
    "import cv2\n",
    "import numpy as np\n",
    "import time\n",
    "\n",
    "class WindowManager(object):\n",
    "    \n",
    "    def __init__(self, windowName, keypressCallback = None):\n",
    "        self.keypressCallback = keypressCallback\n",
    "        \n",
    "        self._windowName = windowName\n",
    "        self._isWindowCreated = False\n",
    "    \n",
    "    @property\n",
    "    def isWindowCreated(self):\n",
    "        return self._isWindowCreated\n",
    "    \n",
    "    def createWindow(self):\n",
    "        cv2.namedWindow(self._windowName)\n",
    "        self._isWindowCreated = True\n",
    "    \n",
    "    def show(self, frame):\n",
    "        cv2.imshow(self._windowName, frame)\n",
    "        \n",
    "    def destroyWindow(self):\n",
    "        cv2.destroyWindow(self._windowName)\n",
    "        self._isWindowCreated = False\n",
    "        \n",
    "    def processEvents(self):\n",
    "        keycode = cv2.waitKey(1)\n",
    "        if self.keypressCallback is not None and keycode != -1:\n",
    "            self.keypressCallback(keycode)"
   ]
  }
 ],
 "metadata": {
  "kernelspec": {
   "display_name": "Python 3 (ipykernel)",
   "language": "python",
   "name": "python3"
  },
  "language_info": {
   "codemirror_mode": {
    "name": "ipython",
    "version": 3
   },
   "file_extension": ".py",
   "mimetype": "text/x-python",
   "name": "python",
   "nbconvert_exporter": "python",
   "pygments_lexer": "ipython3",
   "version": "3.9.15"
  }
 },
 "nbformat": 4,
 "nbformat_minor": 5
}
