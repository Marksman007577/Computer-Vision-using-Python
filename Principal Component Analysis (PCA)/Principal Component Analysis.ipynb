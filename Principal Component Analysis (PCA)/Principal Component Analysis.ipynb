{
 "cells": [
  {
   "cell_type": "code",
   "execution_count": 61,
   "id": "fee6dbef",
   "metadata": {},
   "outputs": [],
   "source": [
    "#programmer: Mark Omefe\n",
    "import numpy as np\n",
    "\n",
    "# Imagine there are 3 students in a class. Below are the scores of the students in 3 subjects\n",
    "# Student   Mathematics       Physics      Chemistry\n",
    "# Simon         90              70            100\n",
    "# John         100              90             45\n",
    "# Mouna         80              60             70\n",
    "\n",
    "# To implement the Principal Component Analysis for this data model\n",
    "# Standardization i.e Normalization of the data\n",
    "# Calculating covariance matrix\n",
    "# Finding the eigenvalue and eigenvector of the matrix\n",
    "# Projecting the data\n",
    "\n",
    "def mean_score_values(a_score):\n",
    "    mean_scores =np.mean(a_score.T, axis=1)\n",
    "    return mean_scores\n",
    "\n",
    "def normalization_function(a_score, a_mean_score):\n",
    "    normalized_result = a_score - a_mean_score\n",
    "    return normalized_result\n",
    "\n",
    "def covariance_Matrix(a_normalized_score):\n",
    "    covariance_value = np.cov(a_normalized_score.T)\n",
    "    return covariance_value\n",
    "\n",
    "def eigenval_eigenvec(a_covariance_matrix):\n",
    "    eigenvalue_eigenvector = np.linalg.eig(a_covariance_matrix)\n",
    "    return eigenvalue_eigenvector\n",
    "\n",
    "def projected_matrix(an_eigenvector,a_normalized_score):\n",
    "    proj_matrix = an_eigenvector.T.dot(a_normalized_score.T)\n",
    "    return proj_matrix\n",
    "\n",
    "# Step 1: The data would be modeled as an array, then the mean score calculated, \n",
    "# then normalized using the normalization function\n",
    "scores = np.array([[90, 70, 100],[100, 90, 45],[80, 60, 70]])\n",
    "mean_scores = mean_score_values(scores)\n",
    "normalized_scores = normalization_function(a_score=scores, a_mean_score=mean_scores) # centers the scores around the mean score\n",
    "\n",
    "# Step 2: Covariance Matrix\n",
    "covar_scores = covariance_Matrix(a_normalized_score=normalized_scores) #variance are on the diagonal\n",
    "\n",
    "# Step 3: Eigen Value and Eigen vectors\n",
    "eigen_values,eigen_vectors = eigenval_eigenvec(a_covariance_matrix=covar_scores)\n",
    "\n",
    "# Step 4: Projected Matrix\n",
    "projected_mat = projected_matrix(an_eigenvector=eigen_vectors,a_normalized_score=normalized_scores)"
   ]
  }
 ],
 "metadata": {
  "kernelspec": {
   "display_name": "Python 3 (ipykernel)",
   "language": "python",
   "name": "python3"
  },
  "language_info": {
   "codemirror_mode": {
    "name": "ipython",
    "version": 3
   },
   "file_extension": ".py",
   "mimetype": "text/x-python",
   "name": "python",
   "nbconvert_exporter": "python",
   "pygments_lexer": "ipython3",
   "version": "3.9.15"
  }
 },
 "nbformat": 4,
 "nbformat_minor": 5
}
