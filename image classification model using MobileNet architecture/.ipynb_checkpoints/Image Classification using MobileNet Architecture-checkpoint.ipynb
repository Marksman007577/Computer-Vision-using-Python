{
 "cells": [
  {
   "cell_type": "code",
   "execution_count": 1,
   "id": "5c2161c5",
   "metadata": {},
   "outputs": [
    {
     "name": "stderr",
     "output_type": "stream",
     "text": [
      "C:\\Users\\User\\anaconda3\\lib\\site-packages\\scipy\\__init__.py:146: UserWarning: A NumPy version >=1.16.5 and <1.23.0 is required for this version of SciPy (detected version 1.23.2\n",
      "  warnings.warn(f\"A NumPy version >={np_minversion} and <{np_maxversion}\"\n"
     ]
    },
    {
     "name": "stdout",
     "output_type": "stream",
     "text": [
      "1/1 [==============================] - 7s 7s/step\n",
      "[[('n02111889', 'Samoyed', 0.9932219), ('n02112137', 'chow', 0.0023243665), ('n02109961', 'Eskimo_dog', 0.0018303135), ('n02114548', 'white_wolf', 0.0011486099), ('n02112018', 'Pomeranian', 0.0005273827)]]\n"
     ]
    }
   ],
   "source": [
    "# MobileNet Architecture\n",
    "#importing the needed libraries\n",
    "\n",
    "\n",
    "import numpy as np\n",
    "import cv2\n",
    "import shutil\n",
    "import random\n",
    "import tensorflow as tf\n",
    "from tensorflow import keras\n",
    "from tensorflow.keras.layers import Dense, Activation\n",
    "from tensorflow.keras.metrics import categorical_crossentropy\n",
    "from tensorflow.keras.preprocessing import image\n",
    "from tensorflow.keras.preprocessing.image import ImageDataGenerator\n",
    "from tensorflow.keras.optimizers import Adam\n",
    "from tensorflow.keras.models import Model\n",
    "import itertools\n",
    "from tensorflow.keras.applications import imagenet_utils\n",
    "from sklearn.metrics import confusion_matrix\n",
    "import matplotlib.pyplot as plt\n",
    "\n",
    "\n",
    "def read_image(an_image):\n",
    "    \"\"\"This function reads any image from a given path\"\"\"\n",
    "    image = cv2.imread(an_image)\n",
    "    return image\n",
    "\n",
    "def mobilenet_arch():\n",
    "    mobile_net = tf.keras.applications.mobilenet.MobileNet(input_shape=(224, 224, 3),\n",
    "    alpha=1.0,\n",
    "    include_top=True,\n",
    "    weights=\"imagenet\",\n",
    "    input_tensor=None,\n",
    "    classes=1000,\n",
    "    pooling=None,\n",
    "    classifier_activation=\"softmax\",\n",
    "    )\n",
    "    \n",
    "    return mobile_net\n",
    "\n",
    "def display_image(window_name, image_read):\n",
    "    \"\"\"This function any any image from a given path\"\"\"\n",
    "    cv2.imshow(window_name, image_read)\n",
    "    cv2.waitKey(0)\n",
    "    \n",
    "def prepare_image(a_file):\n",
    "    img = image.load_img(a_file, target_size=(224, 224))\n",
    "    img_array = image.img_to_array(img)\n",
    "    img_array_expanded_dims = np.expand_dims(img_array, axis=0)\n",
    "    return tf.keras.applications.mobilenet.preprocess_input(img_array_expanded_dims)\n",
    "\n",
    "\n",
    "\n",
    "read_image = read_image(an_image=\"samoyed.jpg\")\n",
    "display_image (window_name=\"Image\", image_read=read_image)\n",
    "\n",
    "mobilenet = mobilenet_arch()\n",
    "\n",
    "preprocessed_image = prepare_image('samoyed.jpg')\n",
    "algo_predictions = mobilenet.predict(preprocessed_image)\n",
    "\n",
    "outcome = imagenet_utils.decode_predictions(algo_predictions)\n",
    "print(outcome)"
   ]
  },
  {
   "cell_type": "code",
   "execution_count": null,
   "id": "3c667cb5",
   "metadata": {},
   "outputs": [],
   "source": []
  }
 ],
 "metadata": {
  "kernelspec": {
   "display_name": "Python 3 (ipykernel)",
   "language": "python",
   "name": "python3"
  },
  "language_info": {
   "codemirror_mode": {
    "name": "ipython",
    "version": 3
   },
   "file_extension": ".py",
   "mimetype": "text/x-python",
   "name": "python",
   "nbconvert_exporter": "python",
   "pygments_lexer": "ipython3",
   "version": "3.9.15"
  }
 },
 "nbformat": 4,
 "nbformat_minor": 5
}
