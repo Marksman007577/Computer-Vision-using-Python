{
 "cells": [
  {
   "cell_type": "code",
   "execution_count": 3,
   "id": "b30bacc9",
   "metadata": {},
   "outputs": [
    {
     "data": {
      "text/plain": [
       "-1"
      ]
     },
     "execution_count": 3,
     "metadata": {},
     "output_type": "execute_result"
    }
   ],
   "source": [
    "import cv2\n",
    "import numpy as np\n",
    "\n",
    "#Generating a salt and pepper noise using a function\n",
    "def sp_noise(image):\n",
    "    \"\"\"This function geenrates a salt and pepper noise over any image\"\"\"\n",
    "    output = image.copy()\n",
    "    #check if image is greyscale or RGB\n",
    "    if len(image.shape)== 2:\n",
    "        black = 0\n",
    "        white = 255\n",
    "    else:\n",
    "        black = np.array([0,0,0], dtype='uint8')\n",
    "        white = np.array([255,255,255], dtype='uint8')\n",
    "    \n",
    "    random_threshold = np.random.random(image.shape[:2])\n",
    "    \n",
    "    output[random_threshold < (random_threshold/2)] = black\n",
    "    output[random_threshold > 1-(random_threshold/2)] = white\n",
    "    \n",
    "    return output\n",
    "\n",
    "#Creating the median filter\n",
    "def median_filter(image, filter_size):\n",
    "    \"\"\"This function uses median filter to remove salt and pepper noise over any image\"\"\"\n",
    "    filtered_image = cv2.medianBlur(image,filter_size)\n",
    "    return filtered_image\n",
    "\n",
    "filter_size = 3\n",
    "image = cv2.imread(\"Nature.jpg\")\n",
    "salt_pepper_noise = sp_noise(image)\n",
    "median_filtered_image = median_filter(salt_pepper_noise, filter_size=filter_size)\n",
    "cv2.imshow('Median_Filtered_Image', np.hstack((salt_pepper_noise, median_filtered_image)))\n",
    "cv2.waitKey(0)"
   ]
  },
  {
   "cell_type": "code",
   "execution_count": null,
   "id": "8c1537f0",
   "metadata": {},
   "outputs": [],
   "source": []
  }
 ],
 "metadata": {
  "kernelspec": {
   "display_name": "Python 3 (ipykernel)",
   "language": "python",
   "name": "python3"
  },
  "language_info": {
   "codemirror_mode": {
    "name": "ipython",
    "version": 3
   },
   "file_extension": ".py",
   "mimetype": "text/x-python",
   "name": "python",
   "nbconvert_exporter": "python",
   "pygments_lexer": "ipython3",
   "version": "3.9.13"
  }
 },
 "nbformat": 4,
 "nbformat_minor": 5
}
