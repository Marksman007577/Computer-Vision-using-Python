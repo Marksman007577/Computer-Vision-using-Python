{
 "cells": [
  {
   "cell_type": "code",
   "execution_count": 3,
   "id": "d805b12e",
   "metadata": {},
   "outputs": [
    {
     "data": {
      "text/plain": [
       "-1"
      ]
     },
     "execution_count": 3,
     "metadata": {},
     "output_type": "execute_result"
    }
   ],
   "source": [
    "import cv2\n",
    "import numpy as np\n",
    "\n",
    "\n",
    "def read_image(image_path):\n",
    "    \"\"\"This function reads any image from a given path\"\"\"\n",
    "    image = cv2.imread(image_path)\n",
    "    return image\n",
    "\n",
    "def gaussian_filter(image,filter_size,sigma):\n",
    "    \"\"\"This function uses gaussian filter to remove image noise\"\"\"\n",
    "    filtered_image = cv2.GaussianBlur(image,(filter_size, filter_size),sigma)\n",
    "    return filtered_image\n",
    "\n",
    "def prewitt_filter(any_image):\n",
    "    \"\"\"This function uses prewitt filter to detect image edges\"\"\"\n",
    "    image = gaussian_filter(any_image,filter_size=filter_dim,sigma=sigma_val)\n",
    "    vertical_filter = np.array([[-1,-1,-1],[0,0,0],[1,1,1]])\n",
    "    horizontal_filter = np.array([[-1,0,1],[-1,0,1],[-1,0,1]])\n",
    "    \n",
    "    vertical_filtered = cv2.filter2D(image,-1,vertical_filter)\n",
    "    horizontal_filtered = cv2.filter2D(image,-1,horizontal_filter)\n",
    "    \n",
    "    abs_grad_x = cv2.convertScaleAbs(vertical_filtered)\n",
    "    abs_grad_y = cv2.convertScaleAbs(horizontal_filtered)\n",
    "    \n",
    "    grad =cv2.addWeighted(abs_grad_x,0.5,abs_grad_y,0.5,0)  #0.5 is the sqrt of the abs values\n",
    "    return grad\n",
    "\n",
    "    \n",
    "filter_dim = 5 #A matrix for the gaussian filter\n",
    "sigma_val = 5 #sigma is the standard deviation\n",
    "\n",
    "image = read_image('Nature.jpg')\n",
    "gray_image = cv2.cvtColor(image, cv2.COLOR_BGR2GRAY) #converts the RGB color first into grey sale using opencv function\n",
    "\n",
    "prewitt_filtered_image = prewitt_filter(gray_image)\n",
    "\n",
    "cv2.imshow('Prewitt Edge Detection', np.hstack((gray_image, prewitt_filtered_image)))\n",
    "cv2.waitKey(0)"
   ]
  },
  {
   "cell_type": "code",
   "execution_count": null,
   "id": "02489c59",
   "metadata": {},
   "outputs": [],
   "source": []
  }
 ],
 "metadata": {
  "kernelspec": {
   "display_name": "Python 3 (ipykernel)",
   "language": "python",
   "name": "python3"
  },
  "language_info": {
   "codemirror_mode": {
    "name": "ipython",
    "version": 3
   },
   "file_extension": ".py",
   "mimetype": "text/x-python",
   "name": "python",
   "nbconvert_exporter": "python",
   "pygments_lexer": "ipython3",
   "version": "3.9.13"
  }
 },
 "nbformat": 4,
 "nbformat_minor": 5
}
