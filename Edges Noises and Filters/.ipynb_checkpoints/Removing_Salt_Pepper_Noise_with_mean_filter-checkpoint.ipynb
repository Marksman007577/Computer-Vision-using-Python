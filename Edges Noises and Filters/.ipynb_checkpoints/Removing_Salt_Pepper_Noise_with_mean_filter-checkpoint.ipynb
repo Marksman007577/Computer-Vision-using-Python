{
 "cells": [
  {
   "cell_type": "code",
   "execution_count": null,
   "id": "ac7a0519",
   "metadata": {},
   "outputs": [],
   "source": [
    "import cv2\n",
    "import numpy as np\n",
    "\n",
    "#Generating a salt and pepper noise using a function\n",
    "def sp_noise(image):\n",
    "    \"\"\"This function geenrates a salt and pepper noise over any image\"\"\"\n",
    "    output = image.copy()\n",
    "    #check if image is greyscale or RGB\n",
    "    if len(image.shape)== 2:\n",
    "        black = 0\n",
    "        white = 255\n",
    "    else:\n",
    "        black = np.array([0,0,0], dtype='uint8')\n",
    "        white = np.array([255,255,255], dtype='uint8')\n",
    "    \n",
    "    random_threshold = np.random.random(image.shape[:2])\n",
    "    \n",
    "    output[random_threshold < (random_threshold/2)] = black\n",
    "    output[random_threshold > 1-(random_threshold/2)] = white\n",
    "    \n",
    "    return output\n",
    "\n",
    "#Creating the mean filter\n",
    "def mean_filter(image, filter_size):\n",
    "    \"\"\"This function uses mean filter to remove salt and pepper noise over any image\"\"\"\n",
    "    filter_dims = (filter_size, filter_size)\n",
    "    mean_filter = np.ones(filter_dims, np.float32)/ filter_size*filter_size\n",
    "    filtered_image = cv2.filter2D(image,-1,mean_filter)\n",
    "    return filtered_image\n",
    "\n",
    "filter_size = 3\n",
    "image = cv2.imread(\"Nature.jpg\")\n",
    "salt_pepper_noise = sp_noise(image)\n",
    "mean_filtered_image = mean_filter(salt_pepper_noise, filter_size=filter_size)\n",
    "cv2.imshow('Mean_Filtered_Image', np.hstack((salt_pepper_noise, mean_filtered_image)))\n",
    "cv2.waitKey(0)"
   ]
  }
 ],
 "metadata": {
  "kernelspec": {
   "display_name": "Python 3 (ipykernel)",
   "language": "python",
   "name": "python3"
  },
  "language_info": {
   "codemirror_mode": {
    "name": "ipython",
    "version": 3
   },
   "file_extension": ".py",
   "mimetype": "text/x-python",
   "name": "python",
   "nbconvert_exporter": "python",
   "pygments_lexer": "ipython3",
   "version": "3.9.13"
  }
 },
 "nbformat": 4,
 "nbformat_minor": 5
}
