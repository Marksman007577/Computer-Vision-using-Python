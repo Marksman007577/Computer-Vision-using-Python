{
 "cells": [
  {
   "cell_type": "code",
   "execution_count": 3,
   "id": "e5b90852",
   "metadata": {},
   "outputs": [],
   "source": [
    "import cv2\n",
    "import numpy as np\n",
    "\n",
    "def read_image(image_path):\n",
    "    \"\"\"This function reads any image from a given path\"\"\"\n",
    "    image = cv2.imread(image_path)\n",
    "    return image\n",
    "\n",
    "\n",
    "def laplacian_filter(image, ksize):\n",
    "    \"\"\"This function uses laplacian filter to detect image edges\"\"\"\n",
    "    filtered_image = cv2.Laplacian(image,ksize=ksize, ddepth=cv2.CV_64F)\n",
    "    return filtered_image\n",
    "\n",
    "def save_image(image_name_format, image):\n",
    "    \"\"\"This function saves any image to a given path\"\"\"\n",
    "    cv2.imwrite(image_name_format, image)\n",
    "\n",
    "ksize=5\n",
    "\n",
    "image = read_image('Nature.jpg')\n",
    "gray_image = cv2.cvtColor(image, cv2.COLOR_BGR2GRAY) #converts the RGB color first into grey sale using opencv function\n",
    "\n",
    "laplacian_filtered_image = laplacian_filter(gray_image, ksize=ksize)\n",
    "\n",
    "cv2.imshow('Laplacian Edge Detection', np.hstack((gray_image, laplacian_filtered_image)))\n",
    "cv2.waitKey(0)\n",
    "\n",
    "save_image(\"main images\\\\gray_image_saved.jpg\",gray_image)\n",
    "save_image(\"main images\\\\laplacian_image_saved_ksize5.jpg\",laplacian_filtered_image)"
   ]
  }
 ],
 "metadata": {
  "kernelspec": {
   "display_name": "Python 3 (ipykernel)",
   "language": "python",
   "name": "python3"
  },
  "language_info": {
   "codemirror_mode": {
    "name": "ipython",
    "version": 3
   },
   "file_extension": ".py",
   "mimetype": "text/x-python",
   "name": "python",
   "nbconvert_exporter": "python",
   "pygments_lexer": "ipython3",
   "version": "3.9.13"
  }
 },
 "nbformat": 4,
 "nbformat_minor": 5
}
