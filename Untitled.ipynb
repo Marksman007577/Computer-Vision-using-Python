{
 "cells": [
  {
   "cell_type": "code",
   "execution_count": 2,
   "id": "ca73e934",
   "metadata": {},
   "outputs": [],
   "source": [
    "import cv2\n",
    "import numpy as np\n",
    "\n",
    "def noise_function(image):\n",
    "    output = image.copy()\n",
    "    \n",
    "    if len(image.shape) == 2:\n",
    "        black = 0\n",
    "        white = 255\n",
    "    else:\n",
    "        black = np.array([0,0,0], dtype='uint8')\n",
    "        white = np.array([255,255,255], dtype='uint8')\n",
    "    \n",
    "    random_threshold = np.random.random(image.shape[:2])\n",
    "    \n",
    "    output[random_threshold < (random_threshold/2)] = black\n",
    "    output[random_threshold > 1-(random_threshold/2)] = white\n",
    "    \n",
    "    return output\n",
    "\n",
    "\n",
    "def read_image(image):\n",
    "    image = cv2.imread(image)\n",
    "    return image\n",
    "\n",
    "\n",
    "def display_image(window_title, image):\n",
    "    cv2.imshow(window_title, image)\n",
    "    cv2.waitKey(0)\n",
    "    \n",
    "image_read = read_image('CAD.png')\n",
    "display_image('Read Image', image_read)\n",
    "\n",
    "noisy_image = noise_function(image_read)\n",
    "display_image('Noisy Image', noisy_image)"
   ]
  },
  {
   "cell_type": "code",
   "execution_count": null,
   "id": "4ad58c80",
   "metadata": {},
   "outputs": [],
   "source": []
  }
 ],
 "metadata": {
  "kernelspec": {
   "display_name": "Python 3 (ipykernel)",
   "language": "python",
   "name": "python3"
  },
  "language_info": {
   "codemirror_mode": {
    "name": "ipython",
    "version": 3
   },
   "file_extension": ".py",
   "mimetype": "text/x-python",
   "name": "python",
   "nbconvert_exporter": "python",
   "pygments_lexer": "ipython3",
   "version": "3.9.13"
  }
 },
 "nbformat": 4,
 "nbformat_minor": 5
}
