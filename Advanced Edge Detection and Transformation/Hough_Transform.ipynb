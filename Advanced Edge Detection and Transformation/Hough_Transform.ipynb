{
 "cells": [
  {
   "cell_type": "code",
   "execution_count": 9,
   "id": "0d92c076",
   "metadata": {},
   "outputs": [
    {
     "data": {
      "text/plain": [
       "-1"
      ]
     },
     "execution_count": 9,
     "metadata": {},
     "output_type": "execute_result"
    }
   ],
   "source": [
    "import cv2\n",
    "import numpy as np\n",
    "\n",
    "# Hough Transform for lane detection\n",
    "\n",
    "def read_image(image_path):\n",
    "    \"\"\"This function reads any image from a given path\"\"\"\n",
    "    image = cv2.imread(image_path)\n",
    "    return image\n",
    "\n",
    "\n",
    "def gray_scale(image):\n",
    "    converted_image = cv2.cvtColor(image,cv2.COLOR_BGR2GRAY)\n",
    "    return converted_image\n",
    "\n",
    "def guassin_filter(image, kernel_dimensions):\n",
    "    filtered_image = cv2.GaussianBlur(image, kernel_dimensions, 0)\n",
    "    return filtered_image\n",
    "\n",
    "def canny_edge_detector(image, lower_threshold, upper_threshold):\n",
    "    canny_detected_edge = cv2.Canny(image, lower_threshold, upper_threshold)\n",
    "    return canny_detected_edge\n",
    "\n",
    "\n",
    "    \n",
    "    \n",
    "    \n",
    "    \n",
    "dims = (5,5)\n",
    "l_limit = 50\n",
    "u_limit = 150\n",
    "\n",
    "image = read_image('road lane.jpg')\n",
    "gray_image = gray_scale(image)\n",
    "cv2.imshow('gray image',gray_image)\n",
    "cv2.waitKey(0)\n",
    "\n",
    "filtered_image = guassin_filter(image=gray_image, kernel_dimensions=dims)\n",
    "cv2.imshow('filtered image',np.hstack((gray_image,filtered_image)))\n",
    "cv2.waitKey(0)\n",
    "\n",
    "edge_image = canny_edge_detector(image, lower_threshold=l_limit, upper_threshold=u_limit)\n",
    "cv2.imshow('edge image',np.hstack((filtered_image, edge_image)))\n",
    "cv2.imshow('edge image',edge_image)\n",
    "cv2.waitKey(0)\n",
    "\n"
   ]
  }
 ],
 "metadata": {
  "kernelspec": {
   "display_name": "Python 3 (ipykernel)",
   "language": "python",
   "name": "python3"
  },
  "language_info": {
   "codemirror_mode": {
    "name": "ipython",
    "version": 3
   },
   "file_extension": ".py",
   "mimetype": "text/x-python",
   "name": "python",
   "nbconvert_exporter": "python",
   "pygments_lexer": "ipython3",
   "version": "3.9.13"
  }
 },
 "nbformat": 4,
 "nbformat_minor": 5
}
