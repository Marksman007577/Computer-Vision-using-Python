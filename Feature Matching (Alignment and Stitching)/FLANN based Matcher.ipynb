{
 "cells": [
  {
   "cell_type": "code",
   "execution_count": 3,
   "id": "f569f57f",
   "metadata": {},
   "outputs": [],
   "source": [
    "import cv2\n",
    "import numpy as np\n",
    "from matplotlib import pyplot as plt\n",
    "\n",
    "def display_image(window_name, specified_image):\n",
    "    \"\"\"This function display any image from a given path\"\"\"\n",
    "    cv2.imshow(window_name, specified_image)\n",
    "    cv2.waitKey(0)\n",
    "    \n",
    "img1 = cv2.imread(\"image1.png\")\n",
    "img2 = cv2.imread(\"image2.png\")\n",
    "\n",
    "img1_gray = cv2.cvtColor(img1, cv2.COLOR_BGR2GRAY)\n",
    "img2_gray = cv2.cvtColor(img2, cv2.COLOR_BGR2GRAY)\n",
    "\n",
    "display_image(window_name=\"gray image\", specified_image=img1_gray)\n",
    "display_image(window_name=\"gray image\", specified_image=img2_gray)\n",
    "\n",
    "#First, we are going to detect features with SIFT.\n",
    "# Create our SIFT detector and detect keypoints and descriptors\n",
    "sift = cv2.xfeatures2d.SIFT_create()\n",
    "\n",
    "# Find the key points and descriptors with SIFT\n",
    "keypoints1, descriptors1 = sift.detectAndCompute(img1, None)\n",
    "keypoints2, descriptors2 = sift.detectAndCompute(img2, None)\n",
    "\n",
    "#construct FLANN parameters we will use a k-dimensional tree \n",
    "#which is the alternative way to organize data structures.\n",
    "FLAN_INDEX_KDTREE = 0\n",
    "index_params = dict (algorithm = FLAN_INDEX_KDTREE, trees=5)\n",
    "search_params = dict (checks=50)\n",
    "\n",
    "#create the FLANN based matcher object using the function cv2.FlannBasedMatcher()\n",
    "flann = cv2.FlannBasedMatcher(index_params, search_params)\n",
    "\n",
    "#calculate matches we will use flann.knnMatch the k nearest neighbor matches. \n",
    "#Next, we will create a similar ratio test as we did with the SIFT detector\n",
    "matches = flann.knnMatch (descriptors1, descriptors2,k=2)\n",
    "\n",
    "#match descriptors of these points with the first best match and the second best match in a second image\n",
    "good_matches = []\n",
    "\n",
    "for m1, m2 in matches:\n",
    "    if m1.distance < 0.6*m2.distance:\n",
    "        good_matches.append([m1])\n",
    "    \n",
    "good_matches\n",
    "\n",
    "#Now it’s time to draw these matches and see how they performed. \n",
    "#This time we will use a similar function cv2.drawMatchesKnn(). \n",
    "flann_matches =cv2.drawMatchesKnn(img1, keypoints1, img2, keypoints2, good_matches, None, flags=2)\n",
    "display_image(window_name=\"Flann Matches\", specified_image=flann_matches)\n",
    "\n"
   ]
  }
 ],
 "metadata": {
  "kernelspec": {
   "display_name": "Python 3 (ipykernel)",
   "language": "python",
   "name": "python3"
  },
  "language_info": {
   "codemirror_mode": {
    "name": "ipython",
    "version": 3
   },
   "file_extension": ".py",
   "mimetype": "text/x-python",
   "name": "python",
   "nbconvert_exporter": "python",
   "pygments_lexer": "ipython3",
   "version": "3.9.15"
  }
 },
 "nbformat": 4,
 "nbformat_minor": 5
}
