{
 "cells": [
  {
   "cell_type": "code",
   "execution_count": 7,
   "id": "f3653fdf",
   "metadata": {},
   "outputs": [],
   "source": [
    "import cv2\n",
    "import numpy as np\n",
    "from matplotlib import pyplot as plt\n",
    "\n",
    "def display_image(window_name, specified_image):\n",
    "    \"\"\"This function display any image from a given path\"\"\"\n",
    "    cv2.imshow(window_name, specified_image)\n",
    "    cv2.waitKey(0)\n",
    "    \n",
    "img1 = cv2.imread(\"image1.png\")\n",
    "img2 = cv2.imread(\"image2.png\")\n",
    "\n",
    "img1_gray = cv2.cvtColor(img1, cv2.COLOR_BGR2GRAY)\n",
    "img2_gray = cv2.cvtColor(img2, cv2.COLOR_BGR2GRAY)\n",
    "\n",
    "display_image(window_name=\"gray image\", specified_image=img1_gray)\n",
    "display_image(window_name=\"gray image\", specified_image=img2_gray)\n",
    "\n",
    "# Create our ORB detector and detect keypoints and descriptors\n",
    "orb = cv2.ORB_create()\n",
    "\n",
    "# Find keypoints and descriptors with ORB\n",
    "keypoints1, descriptors1 = orb.detectAndCompute(img1, None)\n",
    "keypoints2, descriptors2 = orb.detectAndCompute(img2, None)\n",
    "\n",
    "# Create a BFMatcher object.\n",
    "# It will find all of the matching keypoints on two images\n",
    "bf = cv2.BFMatcher_create(cv2.NORM_HAMMING,crossCheck=True)\n",
    "\n",
    "matches = bf.match(descriptors1, descriptors2)\n",
    "\n",
    "single_match = matches[0]\n",
    "single_match.distance\n",
    "\n",
    "matches = sorted(matches,key=lambda x:x.distance)\n",
    "\n",
    "ORB_matches =cv2.drawMatches(img1, keypoints1, img2, keypoints2, matches[:30], None, flags=2)\n",
    "display_image(window_name='ORB Match',specified_image=ORB_matches)"
   ]
  },
  {
   "cell_type": "code",
   "execution_count": null,
   "id": "7ac0d40f",
   "metadata": {},
   "outputs": [],
   "source": []
  }
 ],
 "metadata": {
  "kernelspec": {
   "display_name": "Python 3 (ipykernel)",
   "language": "python",
   "name": "python3"
  },
  "language_info": {
   "codemirror_mode": {
    "name": "ipython",
    "version": 3
   },
   "file_extension": ".py",
   "mimetype": "text/x-python",
   "name": "python",
   "nbconvert_exporter": "python",
   "pygments_lexer": "ipython3",
   "version": "3.9.15"
  }
 },
 "nbformat": 4,
 "nbformat_minor": 5
}
