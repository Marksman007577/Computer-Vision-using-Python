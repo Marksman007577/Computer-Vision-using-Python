{
 "cells": [
  {
   "cell_type": "code",
   "execution_count": 2,
   "id": "b73eb6f6",
   "metadata": {},
   "outputs": [],
   "source": [
    "import cv2\n",
    "import numpy as np\n",
    "from matplotlib import pyplot as plt\n",
    "\n",
    "def display_image(window_name, specified_image):\n",
    "    \"\"\"This function display any image from a given path\"\"\"\n",
    "    cv2.imshow(window_name, specified_image)\n",
    "    cv2.waitKey(0)\n",
    "    \n",
    "img1 = cv2.imread(\"image1.png\")\n",
    "img2 = cv2.imread(\"image2.png\")\n",
    "\n",
    "img1_gray = cv2.cvtColor(img1, cv2.COLOR_BGR2GRAY)\n",
    "img2_gray = cv2.cvtColor(img2, cv2.COLOR_BGR2GRAY)\n",
    "\n",
    "display_image(window_name=\"gray image\", specified_image=img1_gray)\n",
    "display_image(window_name=\"gray image\", specified_image=img2_gray)\n",
    "\n",
    "#for better visualization\n",
    "sift = cv2.xfeatures2d.SIFT_create()\n",
    "\n",
    "keypoints1, descriptors1 = sift.detectAndCompute(img1, None)\n",
    "keypoints2, descriptors2 = sift.detectAndCompute(img2, None)\n",
    "\n",
    "FLAN_INDEX_KDTREE = 0\n",
    "index_params = dict (algorithm = FLAN_INDEX_KDTREE, trees=5)\n",
    "search_params = dict (checks=50)\n",
    "\n",
    "flann = cv2.FlannBasedMatcher(index_params, search_params)\n",
    "matches = flann.knnMatch (descriptors1, descriptors2, k=2)\n",
    "\n",
    "#create a new object called matchesMask. \n",
    "matchesMask = [[0,0] for i in range(len(matches))]\n",
    "\n",
    "matchesMask\n",
    "\n",
    "#Now, we want to change some of these zeros to one, depending on if we have a good match or not. \n",
    "#To do that we need to slightly modify our ratio test.\n",
    "for i,(m1, m2) in enumerate (matches):\n",
    "    if m1.distance < 0.5 * m2.distance:\n",
    "        matchesMask[i] = [1,0]\n",
    "\n",
    "draw_params = dict (matchColor = (0,0,255), singlePointColor = (0,255,0), matchesMask = matchesMask, flags=0 )\n",
    "\n",
    "flann_matches =cv2.drawMatchesKnn(img1, keypoints1, img2, keypoints2, matches, None,**draw_params)\n",
    "display_image(window_name=\"Flann Matches\", specified_image=flann_matches)\n"
   ]
  }
 ],
 "metadata": {
  "kernelspec": {
   "display_name": "Python 3 (ipykernel)",
   "language": "python",
   "name": "python3"
  },
  "language_info": {
   "codemirror_mode": {
    "name": "ipython",
    "version": 3
   },
   "file_extension": ".py",
   "mimetype": "text/x-python",
   "name": "python",
   "nbconvert_exporter": "python",
   "pygments_lexer": "ipython3",
   "version": "3.9.15"
  }
 },
 "nbformat": 4,
 "nbformat_minor": 5
}
