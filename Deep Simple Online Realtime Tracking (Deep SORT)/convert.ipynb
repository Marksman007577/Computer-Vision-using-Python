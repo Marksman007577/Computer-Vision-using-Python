{
 "cells": [
  {
   "cell_type": "code",
   "execution_count": null,
   "id": "0430cf9a",
   "metadata": {},
   "outputs": [],
   "source": [
    "from absl import app, flags, logging\n",
    "from absl.flags import FLAGS\n",
    "import numpy as np\n",
    "from yolov3_tf2.models import YoloV3, YoloV3Tiny\n",
    "from yolov3_tf2.utils import load_darknet_weights\n",
    "\n",
    "flags.DEFINE_string('weights', 'weights/yolov3.weights', 'path to weights file')\n",
    "flags.DEFINE_string('output', 'weights/yolov3.tf', 'path to output')\n",
    "flags.DEFINE_boolean('tiny', False, 'yolov3 or yolov3-tiny')\n",
    "flags.DEFINE_integer('num_classes', 80, 'number of classes in the model')\n",
    "\n",
    "\n",
    "def main(_argv):\n",
    "    if FLAGS.tiny:\n",
    "        yolo = YoloV3Tiny(classes=FLAGS.num_classes)\n",
    "    else:\n",
    "        yolo = YoloV3(classes=FLAGS.num_classes)\n",
    "    yolo.summary()\n",
    "    logging.info('model created')\n",
    "\n",
    "    load_darknet_weights(yolo, FLAGS.weights, FLAGS.tiny)\n",
    "    logging.info('weights loaded')\n",
    "\n",
    "    img = np.random.random((1, 320, 320, 3)).astype(np.float32)\n",
    "    output = yolo(img)\n",
    "    logging.info('sanity check passed')\n",
    "\n",
    "    yolo.save_weights(FLAGS.output)\n",
    "    logging.info('weights saved')\n",
    "\n",
    "\n",
    "if __name__ == '__main__':\n",
    "    try:\n",
    "        app.run(main)\n",
    "    except SystemExit:\n",
    "        pass\n"
   ]
  }
 ],
 "metadata": {
  "kernelspec": {
   "display_name": "Python 3 (ipykernel)",
   "language": "python",
   "name": "python3"
  },
  "language_info": {
   "codemirror_mode": {
    "name": "ipython",
    "version": 3
   },
   "file_extension": ".py",
   "mimetype": "text/x-python",
   "name": "python",
   "nbconvert_exporter": "python",
   "pygments_lexer": "ipython3",
   "version": "3.9.15"
  }
 },
 "nbformat": 4,
 "nbformat_minor": 5
}
